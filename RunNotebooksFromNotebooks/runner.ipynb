{
 "cells": [
  {
   "cell_type": "code",
   "execution_count": 29,
   "metadata": {},
   "outputs": [],
   "source": [
    "import os\n",
    "\n",
    "import nbformat\n",
    "from nbconvert.preprocessors import Preprocessor, ExecutePreprocessor"
   ]
  },
  {
   "cell_type": "code",
   "execution_count": 1,
   "metadata": {},
   "outputs": [],
   "source": [
    "# Declare path to the notebook we want to run.\n",
    "path_to_notebook = './calc.ipynb'"
   ]
  },
  {
   "cell_type": "code",
   "execution_count": 42,
   "metadata": {},
   "outputs": [],
   "source": [
    "# Set variables which we want to pass to the script.\n",
    "os.environ['my_param'] = 'ANOTHER_VALUE_FROM_RUNNER'"
   ]
  },
  {
   "cell_type": "code",
   "execution_count": 42,
   "metadata": {},
   "outputs": [
    {
     "name": "stdout",
     "output_type": "stream",
     "text": [
      "Hello I'm a notebook! O_o\n",
      "\n",
      "ANOTHER_VALUE_FROM_RUNNER\n",
      "\n"
     ]
    }
   ],
   "source": [
    "# Read the notebook from the disk.\n",
    "with open(path_to_notebook, 'r', encoding='utf-8') as f:\n",
    "    nb = nbformat.read(f, 4)\n",
    "\n",
    "# Create executor and run the notebook.\n",
    "ep = ExecutePreprocessor(timeout=600, kernel_name='python3')\n",
    "nb, resources = ep.preprocess(nb, {'metadata': {'path': '.'}})\n",
    "\n",
    "# Print notebook output.\n",
    "for cell in nb['cells']:\n",
    "    if 'outputs' not in cell:\n",
    "        continue\n",
    "    for output in cell['outputs']:\n",
    "        print(output['text'])"
   ]
  }
 ],
 "metadata": {
  "kernelspec": {
   "display_name": "Python 3",
   "language": "python",
   "name": "python3"
  },
  "language_info": {
   "codemirror_mode": {
    "name": "ipython",
    "version": 3
   },
   "file_extension": ".py",
   "mimetype": "text/x-python",
   "name": "python",
   "nbconvert_exporter": "python",
   "pygments_lexer": "ipython3",
   "version": "3.6.0"
  }
 },
 "nbformat": 4,
 "nbformat_minor": 2
}
